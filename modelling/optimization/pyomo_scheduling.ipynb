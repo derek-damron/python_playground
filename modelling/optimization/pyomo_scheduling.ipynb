{
 "cells": [
  {
   "cell_type": "code",
   "execution_count": 1,
   "metadata": {},
   "outputs": [],
   "source": [
    "import numpy as np\n",
    "import pandas as pd\n",
    "import matplotlib.pyplot as plt\n",
    "import seaborn as sns\n",
    "\n",
    "from pyomo import environ as pe"
   ]
  },
  {
   "cell_type": "code",
   "execution_count": 2,
   "metadata": {},
   "outputs": [],
   "source": [
    "# Create new model\n",
    "tmp_model = pe.ConcreteModel()"
   ]
  },
  {
   "cell_type": "code",
   "execution_count": 3,
   "metadata": {},
   "outputs": [],
   "source": [
    "# Initialize some sets\n",
    "workers = (\n",
    "    \"Adam\",\n",
    "    \"Bob\",\n",
    "    \"Cynthia\",\n",
    ")\n",
    "\n",
    "customers = (\n",
    "    \"Frank\",\n",
    "    \"Ginny\",\n",
    "    \"Hannah\",\n",
    ")\n",
    "\n",
    "days = (\n",
    "    'Sunday',\n",
    "    'Monday',\n",
    "    'Tuesday',\n",
    "    'Wednesday',\n",
    "    'Thursday',\n",
    "    'Friday',\n",
    "    'Saturday'\n",
    ")"
   ]
  },
  {
   "cell_type": "code",
   "execution_count": 4,
   "metadata": {},
   "outputs": [
    {
     "data": {
      "text/plain": [
       "{('Adam', 'Sunday'): 1,\n",
       " ('Adam', 'Monday'): 1,\n",
       " ('Bob', 'Monday'): 1,\n",
       " ('Bob', 'Tuesday'): 1,\n",
       " ('Cynthia', 'Tuesday'): 1,\n",
       " ('Cynthia', 'Wednesday'): 1}"
      ]
     },
     "execution_count": 4,
     "metadata": {},
     "output_type": "execute_result"
    }
   ],
   "source": [
    "# Initialize schedules\n",
    "worker_schedules = dict(\n",
    "    ((w, d), 0)\n",
    "    for w in workers\n",
    "    for d in days\n",
    ")\n",
    "worker_schedules[('Adam', 'Sunday')] = 1\n",
    "worker_schedules[('Adam', 'Monday')] = 1\n",
    "worker_schedules[('Bob', 'Monday')] = 1\n",
    "worker_schedules[('Bob', 'Tuesday')] = 1\n",
    "worker_schedules[('Cynthia', 'Tuesday')] = 1\n",
    "worker_schedules[('Cynthia', 'Wednesday')] = 1\n",
    "{k: v for k, v in worker_schedules.items() if v == 1}"
   ]
  },
  {
   "cell_type": "code",
   "execution_count": 5,
   "metadata": {},
   "outputs": [
    {
     "data": {
      "text/plain": [
       "{('Frank', 'Monday'): 1, ('Ginny', 'Tuesday'): 1, ('Hannah', 'Wednesday'): 1}"
      ]
     },
     "execution_count": 5,
     "metadata": {},
     "output_type": "execute_result"
    }
   ],
   "source": [
    "# Initialize schedules\n",
    "customer_requests = dict(\n",
    "    ((c, d), 0)\n",
    "    for c in customers\n",
    "    for d in days\n",
    ")\n",
    "customer_requests[('Frank', 'Monday')] = 1\n",
    "customer_requests[('Ginny', 'Tuesday')] = 1\n",
    "customer_requests[('Hannah', 'Wednesday')] = 1\n",
    "{k: v for k, v in customer_requests.items() if v == 1}"
   ]
  },
  {
   "cell_type": "code",
   "execution_count": 6,
   "metadata": {},
   "outputs": [],
   "source": [
    "# Define our sets\n",
    "tmp_model.workers = pe.Set(initialize=workers)\n",
    "tmp_model.customers = pe.Set(initialize=customers)\n",
    "tmp_model.days = pe.Set(initialize=days)"
   ]
  },
  {
   "cell_type": "code",
   "execution_count": 7,
   "metadata": {},
   "outputs": [],
   "source": [
    "# Define our parameters\n",
    "tmp_model.worker_schedules = pe.Param(\n",
    "    tmp_model.workers * tmp_model.days,\n",
    "    initialize = worker_schedules,\n",
    "    within = pe.Binary\n",
    ")\n",
    "\n",
    "tmp_model.customer_requests = pe.Param(\n",
    "    # On pyomo Set objects, the * operator returns the Cartesian product\n",
    "    tmp_model.customers * tmp_model.days,\n",
    "    # The dictionary mapping (channel, viewer) pairs to likelihood of viewership\n",
    "    initialize = customer_requests,\n",
    "    # Happiness probabilities are real numbers between 0 and 1\n",
    "    within = pe.Binary\n",
    ")"
   ]
  },
  {
   "cell_type": "code",
   "execution_count": 8,
   "metadata": {},
   "outputs": [],
   "source": [
    "# Define our variables\n",
    "tmp_model.assignments = pe.Var(\n",
    "    # Defined over the channel matrix\n",
    "    tmp_model.workers * tmp_model.customers * tmp_model.days,\n",
    "    # Possible values are 0 and 1\n",
    "    domain = pe.Binary,\n",
    "    # Initialize to 0\n",
    "    initialize = 0\n",
    ")"
   ]
  },
  {
   "cell_type": "code",
   "execution_count": 9,
   "metadata": {},
   "outputs": [],
   "source": [
    "# Define our constraints\n",
    "# -> Here, \n",
    "#    1) each customer assigned to only 1 worker\n",
    "\n",
    "def one_worker_per_customer(model, customer):\n",
    "    n_workers_assigned_to_customer = sum(\n",
    "        model.assignments[worker, customer, day]\n",
    "        for worker in model.workers\n",
    "        for day in model.days\n",
    "    )\n",
    "    return n_workers_assigned_to_customer == 1\n",
    "\n",
    "tmp_model.one_worker_per_customer = pe.Constraint(\n",
    "    tmp_model.customers,\n",
    "    rule = one_worker_per_customer\n",
    ")"
   ]
  },
  {
   "cell_type": "code",
   "execution_count": 10,
   "metadata": {},
   "outputs": [],
   "source": [
    "# Define our objective\n",
    "# -> Here the total number of matches\n",
    "\n",
    "def get_legit_matches(model):\n",
    "    # Multiply assignments by the \n",
    "    legit_matches = [\n",
    "        model.assignments[w, c, d] * model.worker_schedules[w, d] * model.customer_requests[c, d]\n",
    "        for (w, c, d), p in model.assignments.items()\n",
    "    ]\n",
    "    \n",
    "    return sum(legit_matches)\n",
    "\n",
    "tmp_model.objective = pe.Objective(\n",
    "    rule = get_legit_matches,\n",
    "    sense = pe.maximize\n",
    ")"
   ]
  },
  {
   "cell_type": "code",
   "execution_count": 11,
   "metadata": {},
   "outputs": [],
   "source": [
    "# Solve it!\n",
    "\n",
    "#import sys\n",
    "#sys.path.append('/mnt/c/glpk-4.65/w64/')\n",
    "\n",
    "# Swap out \"glpk\" for \"cbc\" or \"gurobi\" if using another solver\n",
    "solver = pe.SolverFactory(\"glpk\")\n",
    "# Add the keyword arg tee=True for a detailed trace of the solver's work.\n",
    "tmp_solution = solver.solve(\n",
    "    tmp_model,\n",
    "    #executable = '/mnt/c/glpk-4.65/w64/glpsol'\n",
    ")"
   ]
  },
  {
   "cell_type": "code",
   "execution_count": 12,
   "metadata": {},
   "outputs": [
    {
     "data": {
      "text/plain": [
       "{'Problem': [{'Name': 'unknown', 'Lower bound': 3.0, 'Upper bound': 3.0, 'Number of objectives': 1, 'Number of constraints': 4, 'Number of variables': 64, 'Number of nonzeros': 64, 'Sense': 'maximize'}], 'Solver': [{'Status': 'ok', 'Termination condition': 'optimal', 'Statistics': {'Branch and bound': {'Number of bounded subproblems': '1', 'Number of created subproblems': '1'}}, 'Error rc': 0, 'Time': 0.0069582462310791016}], 'Solution': [OrderedDict([('number of solutions', 0), ('number of solutions displayed', 0)])]}"
      ]
     },
     "execution_count": 12,
     "metadata": {},
     "output_type": "execute_result"
    }
   ],
   "source": [
    "tmp_solution"
   ]
  },
  {
   "cell_type": "code",
   "execution_count": 13,
   "metadata": {},
   "outputs": [
    {
     "name": "stdout",
     "output_type": "stream",
     "text": [
      "('Adam', 'Frank', 'Monday') 1.0\n",
      "('Bob', 'Ginny', 'Tuesday') 1.0\n",
      "('Cynthia', 'Hannah', 'Wednesday') 1.0\n"
     ]
    }
   ],
   "source": [
    "# Inspect channel buys\n",
    "for combo, matched in tmp_model.assignments.get_values().items():\n",
    "    if matched == 1:\n",
    "        print(combo, matched)"
   ]
  },
  {
   "cell_type": "markdown",
   "metadata": {},
   "source": [
    "# Repeat but using AbstractModel instead for easier scenario testing"
   ]
  },
  {
   "cell_type": "code",
   "execution_count": 14,
   "metadata": {},
   "outputs": [],
   "source": [
    "import scheduling_abstract_model as sam"
   ]
  },
  {
   "cell_type": "code",
   "execution_count": 15,
   "metadata": {},
   "outputs": [],
   "source": [
    "abstract = sam.create()"
   ]
  },
  {
   "cell_type": "code",
   "execution_count": 16,
   "metadata": {},
   "outputs": [],
   "source": [
    "# Scenario 1: Each customer only overlaps with one tutor\n",
    "scenario1 = abstract.create_instance(data={\n",
    "    None: {\n",
    "        'worker_schedules': {\n",
    "            ('Adam', 'Wednesday'): 1,\n",
    "            ('Bob', 'Monday'): 1,\n",
    "            ('Cynthia', 'Tuesday'): 1,\n",
    "        },\n",
    "        'customer_requests': {\n",
    "            ('Frank', 'Monday'): 1,\n",
    "            ('Ginny', 'Tuesday'): 1,\n",
    "            ('Hannah', 'Wednesday'): 1,\n",
    "        }\n",
    "    }\n",
    "})\n",
    "\n",
    "scenario1_expected_output = {\n",
    "    ('Bob', 'Frank', 'Monday'),\n",
    "    ('Cynthia', 'Ginny', 'Tuesday'),\n",
    "    ('Adam', 'Hannah', 'Wednesday')\n",
    "}\n",
    "\n",
    "solver.solve(scenario1)\n",
    "\n",
    "assert sam.get_matches(scenario1) == scenario1_expected_output"
   ]
  },
  {
   "cell_type": "code",
   "execution_count": 17,
   "metadata": {},
   "outputs": [],
   "source": [
    "# Scenario 2: More overlap between customers and workers, but still only one solution because\n",
    "#             Hannah only overlaps with one worker\n",
    "scenario2 = abstract.create_instance(data={\n",
    "    None: {\n",
    "        'worker_schedules': {\n",
    "            ('Adam', 'Sunday'): 1,\n",
    "            ('Adam', 'Monday'): 1,\n",
    "            ('Bob', 'Monday'): 1,\n",
    "            ('Bob', 'Tuesday'): 1,\n",
    "            ('Cynthia', 'Tuesday'): 1,\n",
    "            ('Cynthia', 'Wednesday'): 1,\n",
    "        },\n",
    "        'customer_requests': {\n",
    "            ('Frank', 'Monday'): 1,\n",
    "            ('Ginny', 'Tuesday'): 1,\n",
    "            ('Hannah', 'Wednesday'): 1,\n",
    "        }\n",
    "    }\n",
    "})\n",
    "\n",
    "scenario2_expected_output = {\n",
    "    ('Adam', 'Frank', 'Monday'),\n",
    "    ('Bob', 'Ginny', 'Tuesday'),\n",
    "    ('Cynthia', 'Hannah', 'Wednesday')\n",
    "}\n",
    "\n",
    "solver.solve(scenario2)\n",
    "\n",
    "assert sam.get_matches(scenario2) == scenario2_expected_output"
   ]
  },
  {
   "cell_type": "code",
   "execution_count": 18,
   "metadata": {},
   "outputs": [],
   "source": [
    "# Scenario 3: One customer won't get assigned\n",
    "scenario3 = abstract.create_instance(data={\n",
    "    None: {\n",
    "        'worker_schedules': {\n",
    "            ('Adam', 'Monday'): 1,\n",
    "            ('Bob', 'Tuesday'): 1,\n",
    "        },\n",
    "        'customer_requests': {\n",
    "            ('Frank', 'Monday'): 1,\n",
    "            ('Ginny', 'Tuesday'): 1,\n",
    "        }\n",
    "    }\n",
    "})\n",
    "\n",
    "scenario3_expected_output = {\n",
    "    ('Adam', 'Frank', 'Monday'),\n",
    "    ('Bob', 'Ginny', 'Tuesday'),\n",
    "}\n",
    "\n",
    "solver.solve(scenario3)\n",
    "\n",
    "assert sam.get_matches(scenario3) == scenario3_expected_output"
   ]
  },
  {
   "cell_type": "code",
   "execution_count": 19,
   "metadata": {},
   "outputs": [
    {
     "data": {
      "text/plain": [
       "{('Adam', 'Frank', 'Monday'), ('Bob', 'Ginny', 'Tuesday')}"
      ]
     },
     "execution_count": 19,
     "metadata": {},
     "output_type": "execute_result"
    }
   ],
   "source": [
    "sam.get_matches(scenario3)"
   ]
  },
  {
   "cell_type": "code",
   "execution_count": null,
   "metadata": {},
   "outputs": [],
   "source": []
  }
 ],
 "metadata": {
  "kernelspec": {
   "display_name": "Python 3 (ipykernel)",
   "language": "python",
   "name": "python3"
  },
  "language_info": {
   "codemirror_mode": {
    "name": "ipython",
    "version": 3
   },
   "file_extension": ".py",
   "mimetype": "text/x-python",
   "name": "python",
   "nbconvert_exporter": "python",
   "pygments_lexer": "ipython3",
   "version": "3.7.9"
  }
 },
 "nbformat": 4,
 "nbformat_minor": 4
}
