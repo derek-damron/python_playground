{
 "cells": [
  {
   "cell_type": "code",
   "execution_count": 1,
   "metadata": {},
   "outputs": [],
   "source": [
    "import numpy as np\n",
    "import pandas as pd\n",
    "import matplotlib.pyplot as plt\n",
    "import seaborn as sns\n",
    "\n",
    "from pyomo import environ as pe"
   ]
  },
  {
   "cell_type": "code",
   "execution_count": 2,
   "metadata": {},
   "outputs": [],
   "source": [
    "# Create new model\n",
    "tmp_model = pe.ConcreteModel()"
   ]
  },
  {
   "cell_type": "code",
   "execution_count": 3,
   "metadata": {},
   "outputs": [],
   "source": [
    "# Initialize some sets\n",
    "workers = (\n",
    "    \"Adam\",\n",
    "    \"Bob\",\n",
    "    \"Cynthia\",\n",
    ")\n",
    "\n",
    "customers = (\n",
    "    \"Frank\",\n",
    "    \"Ginny\",\n",
    "    \"Hannah\",\n",
    ")\n",
    "\n",
    "days = (\n",
    "    'Sunday',\n",
    "    'Monday',\n",
    "    'Tuesday',\n",
    "    'Wednesday',\n",
    "    'Thursday',\n",
    "    'Friday',\n",
    "    'Saturday'\n",
    ")"
   ]
  },
  {
   "cell_type": "code",
   "execution_count": 4,
   "metadata": {},
   "outputs": [
    {
     "data": {
      "text/plain": [
       "{('Adam', 'Sunday'): 1,\n",
       " ('Adam', 'Monday'): 1,\n",
       " ('Bob', 'Monday'): 1,\n",
       " ('Bob', 'Tuesday'): 1,\n",
       " ('Cynthia', 'Tuesday'): 1,\n",
       " ('Cynthia', 'Wednesday'): 1}"
      ]
     },
     "execution_count": 4,
     "metadata": {},
     "output_type": "execute_result"
    }
   ],
   "source": [
    "# Initialize schedules\n",
    "worker_schedules = dict(\n",
    "    ((w, d), 0)\n",
    "    for w in workers\n",
    "    for d in days\n",
    ")\n",
    "worker_schedules[('Adam', 'Sunday')] = 1\n",
    "worker_schedules[('Adam', 'Monday')] = 1\n",
    "worker_schedules[('Bob', 'Monday')] = 1\n",
    "worker_schedules[('Bob', 'Tuesday')] = 1\n",
    "worker_schedules[('Cynthia', 'Tuesday')] = 1\n",
    "worker_schedules[('Cynthia', 'Wednesday')] = 1\n",
    "{k: v for k, v in worker_schedules.items() if v == 1}"
   ]
  },
  {
   "cell_type": "code",
   "execution_count": 5,
   "metadata": {},
   "outputs": [
    {
     "data": {
      "text/plain": [
       "{('Frank', 'Monday'): 1, ('Ginny', 'Tuesday'): 1, ('Hannah', 'Wednesday'): 1}"
      ]
     },
     "execution_count": 5,
     "metadata": {},
     "output_type": "execute_result"
    }
   ],
   "source": [
    "# Initialize schedules\n",
    "customer_requests = dict(\n",
    "    ((c, d), 0)\n",
    "    for c in customers\n",
    "    for d in days\n",
    ")\n",
    "customer_requests[('Frank', 'Monday')] = 1\n",
    "customer_requests[('Ginny', 'Tuesday')] = 1\n",
    "customer_requests[('Hannah', 'Wednesday')] = 1\n",
    "{k: v for k, v in customer_requests.items() if v == 1}"
   ]
  },
  {
   "cell_type": "code",
   "execution_count": 6,
   "metadata": {},
   "outputs": [],
   "source": [
    "# Define our sets\n",
    "tmp_model.workers = pe.Set(initialize=workers)\n",
    "tmp_model.customers = pe.Set(initialize=customers)\n",
    "tmp_model.days = pe.Set(initialize=days)"
   ]
  },
  {
   "cell_type": "code",
   "execution_count": 7,
   "metadata": {},
   "outputs": [],
   "source": [
    "# Define our parameters\n",
    "tmp_model.worker_schedules = pe.Param(\n",
    "    tmp_model.workers * tmp_model.days,\n",
    "    initialize = worker_schedules,\n",
    "    within = pe.Binary\n",
    ")\n",
    "\n",
    "tmp_model.customer_requests = pe.Param(\n",
    "    # On pyomo Set objects, the * operator returns the Cartesian product\n",
    "    tmp_model.customers * tmp_model.days,\n",
    "    # The dictionary mapping (channel, viewer) pairs to likelihood of viewership\n",
    "    initialize = customer_requests,\n",
    "    # Happiness probabilities are real numbers between 0 and 1\n",
    "    within = pe.Binary\n",
    ")"
   ]
  },
  {
   "cell_type": "code",
   "execution_count": 8,
   "metadata": {},
   "outputs": [],
   "source": [
    "# Define our variables\n",
    "tmp_model.assignments = pe.Var(\n",
    "    # Defined over the channel matrix\n",
    "    tmp_model.workers * tmp_model.customers * tmp_model.days,\n",
    "    # Possible values are 0 and 1\n",
    "    domain = pe.Binary,\n",
    "    # Initialize to 0\n",
    "    initialize = 0\n",
    ")"
   ]
  },
  {
   "cell_type": "code",
   "execution_count": 9,
   "metadata": {},
   "outputs": [],
   "source": [
    "# Define our constraints\n",
    "# -> Here, \n",
    "#    1) each customer assigned to only 1 worker\n",
    "\n",
    "def one_worker_per_customer(model, customer):\n",
    "    n_workers_assigned_to_customer = sum(\n",
    "        model.assignments[worker, customer, day]\n",
    "        for worker in model.workers\n",
    "        for day in model.days\n",
    "    )\n",
    "    return n_workers_assigned_to_customer == 1\n",
    "\n",
    "tmp_model.one_worker_per_customer = pe.Constraint(\n",
    "    tmp_model.customers,\n",
    "    rule = one_worker_per_customer\n",
    ")"
   ]
  },
  {
   "cell_type": "code",
   "execution_count": 10,
   "metadata": {},
   "outputs": [],
   "source": [
    "# Define our objective\n",
    "# -> Here the total number of matches\n",
    "\n",
    "def get_legit_matches(model):\n",
    "    # Multiply assignments by the \n",
    "    legit_matches = [\n",
    "        model.assignments[w, c, d] * model.worker_schedules[w, d] * model.customer_requests[c, d]\n",
    "        for (w, c, d), p in model.assignments.items()\n",
    "    ]\n",
    "    \n",
    "    return sum(legit_matches)\n",
    "\n",
    "tmp_model.objective = pe.Objective(\n",
    "    rule = get_legit_matches,\n",
    "    sense = pe.maximize\n",
    ")"
   ]
  },
  {
   "cell_type": "code",
   "execution_count": 11,
   "metadata": {},
   "outputs": [],
   "source": [
    "# Solve it!\n",
    "\n",
    "#import sys\n",
    "#sys.path.append('/mnt/c/glpk-4.65/w64/')\n",
    "\n",
    "# Swap out \"glpk\" for \"cbc\" or \"gurobi\" if using another solver\n",
    "solver = pe.SolverFactory(\"glpk\")\n",
    "# Add the keyword arg tee=True for a detailed trace of the solver's work.\n",
    "tmp_solution = solver.solve(\n",
    "    tmp_model,\n",
    "    #executable = '/mnt/c/glpk-4.65/w64/glpsol'\n",
    ")"
   ]
  },
  {
   "cell_type": "code",
   "execution_count": 12,
   "metadata": {},
   "outputs": [
    {
     "data": {
      "text/plain": [
       "{'Problem': [{'Name': 'unknown', 'Lower bound': 3.0, 'Upper bound': 3.0, 'Number of objectives': 1, 'Number of constraints': 4, 'Number of variables': 64, 'Number of nonzeros': 64, 'Sense': 'maximize'}], 'Solver': [{'Status': 'ok', 'Termination condition': 'optimal', 'Statistics': {'Branch and bound': {'Number of bounded subproblems': '1', 'Number of created subproblems': '1'}}, 'Error rc': 0, 'Time': 0.006537675857543945}], 'Solution': [OrderedDict([('number of solutions', 0), ('number of solutions displayed', 0)])]}"
      ]
     },
     "execution_count": 12,
     "metadata": {},
     "output_type": "execute_result"
    }
   ],
   "source": [
    "tmp_solution"
   ]
  },
  {
   "cell_type": "code",
   "execution_count": 13,
   "metadata": {},
   "outputs": [
    {
     "name": "stdout",
     "output_type": "stream",
     "text": [
      "('Adam', 'Frank', 'Monday') 1.0\n",
      "('Bob', 'Ginny', 'Tuesday') 1.0\n",
      "('Cynthia', 'Hannah', 'Wednesday') 1.0\n"
     ]
    }
   ],
   "source": [
    "# Inspect channel buys\n",
    "for combo, matched in tmp_model.assignments.get_values().items():\n",
    "    if matched == 1:\n",
    "        print(combo, matched)"
   ]
  },
  {
   "cell_type": "markdown",
   "metadata": {},
   "source": [
    "# Repeat but using AbstractModel instead for easier scenario testing"
   ]
  },
  {
   "cell_type": "code",
   "execution_count": 14,
   "metadata": {},
   "outputs": [],
   "source": [
    "import scheduling_abstract_model as sam"
   ]
  },
  {
   "cell_type": "code",
   "execution_count": 15,
   "metadata": {},
   "outputs": [],
   "source": [
    "abstract = sam.create()"
   ]
  },
  {
   "cell_type": "code",
   "execution_count": 16,
   "metadata": {},
   "outputs": [],
   "source": [
    "# Scenario 1: Each customer only overlaps with one tutor\n",
    "scenario1 = abstract.create_instance(data={\n",
    "    None: {\n",
    "        'worker_schedules': {\n",
    "            ('Adam', 'Wednesday'): 1,\n",
    "            ('Bob', 'Monday'): 1,\n",
    "            ('Cynthia', 'Tuesday'): 1,\n",
    "        },\n",
    "        'customer_requests': {\n",
    "            ('Frank', 'Monday'): 1,\n",
    "            ('Ginny', 'Tuesday'): 1,\n",
    "            ('Hannah', 'Wednesday'): 1,\n",
    "        }\n",
    "    }\n",
    "})\n",
    "\n",
    "scenario1_expected_output = {\n",
    "    ('Bob', 'Frank', 'Monday'),\n",
    "    ('Cynthia', 'Ginny', 'Tuesday'),\n",
    "    ('Adam', 'Hannah', 'Wednesday')\n",
    "}\n",
    "\n",
    "solver.solve(scenario1)\n",
    "\n",
    "assert sam.get_matches(scenario1) == scenario1_expected_output"
   ]
  },
  {
   "cell_type": "code",
   "execution_count": 17,
   "metadata": {},
   "outputs": [],
   "source": [
    "# Scenario 2: More overlap between customers and workers, but still only one solution because\n",
    "#             Hannah only overlaps with one worker\n",
    "scenario2 = abstract.create_instance(data={\n",
    "    None: {\n",
    "        'worker_schedules': {\n",
    "            ('Adam', 'Sunday'): 1,\n",
    "            ('Adam', 'Monday'): 1,\n",
    "            ('Bob', 'Monday'): 1,\n",
    "            ('Bob', 'Tuesday'): 1,\n",
    "            ('Cynthia', 'Tuesday'): 1,\n",
    "            ('Cynthia', 'Wednesday'): 1,\n",
    "        },\n",
    "        'customer_requests': {\n",
    "            ('Frank', 'Monday'): 1,\n",
    "            ('Ginny', 'Tuesday'): 1,\n",
    "            ('Hannah', 'Wednesday'): 1,\n",
    "        }\n",
    "    }\n",
    "})\n",
    "\n",
    "scenario2_expected_output = {\n",
    "    ('Adam', 'Frank', 'Monday'),\n",
    "    ('Bob', 'Ginny', 'Tuesday'),\n",
    "    ('Cynthia', 'Hannah', 'Wednesday')\n",
    "}\n",
    "\n",
    "solver.solve(scenario2)\n",
    "\n",
    "assert sam.get_matches(scenario2) == scenario2_expected_output"
   ]
  },
  {
   "cell_type": "code",
   "execution_count": 18,
   "metadata": {},
   "outputs": [
    {
     "ename": "AssertionError",
     "evalue": "",
     "output_type": "error",
     "traceback": [
      "\u001b[0;31m---------------------------------------------------------------------------\u001b[0m",
      "\u001b[0;31mAssertionError\u001b[0m                            Traceback (most recent call last)",
      "\u001b[0;32m/tmp/ipykernel_921/4126056991.py\u001b[0m in \u001b[0;36m<module>\u001b[0;34m\u001b[0m\n\u001b[1;32m     22\u001b[0m \u001b[0msolver\u001b[0m\u001b[0;34m.\u001b[0m\u001b[0msolve\u001b[0m\u001b[0;34m(\u001b[0m\u001b[0mscenario3\u001b[0m\u001b[0;34m)\u001b[0m\u001b[0;34m\u001b[0m\u001b[0;34m\u001b[0m\u001b[0m\n\u001b[1;32m     23\u001b[0m \u001b[0;34m\u001b[0m\u001b[0m\n\u001b[0;32m---> 24\u001b[0;31m \u001b[0;32massert\u001b[0m \u001b[0msam\u001b[0m\u001b[0;34m.\u001b[0m\u001b[0mget_matches\u001b[0m\u001b[0;34m(\u001b[0m\u001b[0mscenario3\u001b[0m\u001b[0;34m)\u001b[0m \u001b[0;34m==\u001b[0m \u001b[0mscenario3_expected_output\u001b[0m\u001b[0;34m\u001b[0m\u001b[0;34m\u001b[0m\u001b[0m\n\u001b[0m",
      "\u001b[0;31mAssertionError\u001b[0m: "
     ]
    }
   ],
   "source": [
    "# Scenario 3: One customer won't get assigned\n",
    "scenario3 = abstract.create_instance(data={\n",
    "    None: {\n",
    "        'worker_schedules': {\n",
    "            ('Adam', 'Monday'): 1,\n",
    "            ('Bob', 'Tuesday'): 1,\n",
    "            ('Cynthia', 'Wednesday'): 1,\n",
    "        },\n",
    "        'customer_requests': {\n",
    "            ('Frank', 'Monday'): 1,\n",
    "            ('Ginny', 'Tuesday'): 1,\n",
    "            ('Hannah', 'Thursday'): 1,\n",
    "        }\n",
    "    }\n",
    "})\n",
    "\n",
    "scenario3_expected_output = {\n",
    "    ('Adam', 'Frank', 'Monday'),\n",
    "    ('Bob', 'Ginny', 'Tuesday'),\n",
    "}\n",
    "\n",
    "solver.solve(scenario3)\n",
    "\n",
    "assert sam.get_matches(scenario3) == scenario3_expected_output"
   ]
  },
  {
   "cell_type": "code",
   "execution_count": 19,
   "metadata": {},
   "outputs": [
    {
     "data": {
      "text/plain": [
       "{'Problem': [{'Name': 'unknown', 'Lower bound': -inf, 'Upper bound': inf, 'Number of objectives': 1, 'Number of constraints': 10, 'Number of variables': 64, 'Number of nonzeros': 82, 'Sense': 'maximize'}], 'Solver': [{'Status': 'ok', 'Termination condition': 'infeasible', 'Statistics': {'Branch and bound': {'Number of bounded subproblems': 0, 'Number of created subproblems': 0}}, 'Error rc': 0, 'Time': 0.00758051872253418}]}"
      ]
     },
     "execution_count": 19,
     "metadata": {},
     "output_type": "execute_result"
    }
   ],
   "source": [
    "solver.solve(scenario3)"
   ]
  },
  {
   "cell_type": "code",
   "execution_count": 20,
   "metadata": {},
   "outputs": [
    {
     "name": "stdout",
     "output_type": "stream",
     "text": [
      "7 Set Declarations\n",
      "    assignments_index : Size=1, Index=None, Ordered=True\n",
      "        Key  : Dimen : Domain                         : Size : Members\n",
      "        None :     3 : assignments_index_index_0*days :   63 : {('Adam', 'Frank', 'Sunday'), ('Adam', 'Frank', 'Monday'), ('Adam', 'Frank', 'Tuesday'), ('Adam', 'Frank', 'Wednesday'), ('Adam', 'Frank', 'Thursday'), ('Adam', 'Frank', 'Friday'), ('Adam', 'Frank', 'Saturday'), ('Adam', 'Ginny', 'Sunday'), ('Adam', 'Ginny', 'Monday'), ('Adam', 'Ginny', 'Tuesday'), ('Adam', 'Ginny', 'Wednesday'), ('Adam', 'Ginny', 'Thursday'), ('Adam', 'Ginny', 'Friday'), ('Adam', 'Ginny', 'Saturday'), ('Adam', 'Hannah', 'Sunday'), ('Adam', 'Hannah', 'Monday'), ('Adam', 'Hannah', 'Tuesday'), ('Adam', 'Hannah', 'Wednesday'), ('Adam', 'Hannah', 'Thursday'), ('Adam', 'Hannah', 'Friday'), ('Adam', 'Hannah', 'Saturday'), ('Bob', 'Frank', 'Sunday'), ('Bob', 'Frank', 'Monday'), ('Bob', 'Frank', 'Tuesday'), ('Bob', 'Frank', 'Wednesday'), ('Bob', 'Frank', 'Thursday'), ('Bob', 'Frank', 'Friday'), ('Bob', 'Frank', 'Saturday'), ('Bob', 'Ginny', 'Sunday'), ('Bob', 'Ginny', 'Monday'), ('Bob', 'Ginny', 'Tuesday'), ('Bob', 'Ginny', 'Wednesday'), ('Bob', 'Ginny', 'Thursday'), ('Bob', 'Ginny', 'Friday'), ('Bob', 'Ginny', 'Saturday'), ('Bob', 'Hannah', 'Sunday'), ('Bob', 'Hannah', 'Monday'), ('Bob', 'Hannah', 'Tuesday'), ('Bob', 'Hannah', 'Wednesday'), ('Bob', 'Hannah', 'Thursday'), ('Bob', 'Hannah', 'Friday'), ('Bob', 'Hannah', 'Saturday'), ('Cynthia', 'Frank', 'Sunday'), ('Cynthia', 'Frank', 'Monday'), ('Cynthia', 'Frank', 'Tuesday'), ('Cynthia', 'Frank', 'Wednesday'), ('Cynthia', 'Frank', 'Thursday'), ('Cynthia', 'Frank', 'Friday'), ('Cynthia', 'Frank', 'Saturday'), ('Cynthia', 'Ginny', 'Sunday'), ('Cynthia', 'Ginny', 'Monday'), ('Cynthia', 'Ginny', 'Tuesday'), ('Cynthia', 'Ginny', 'Wednesday'), ('Cynthia', 'Ginny', 'Thursday'), ('Cynthia', 'Ginny', 'Friday'), ('Cynthia', 'Ginny', 'Saturday'), ('Cynthia', 'Hannah', 'Sunday'), ('Cynthia', 'Hannah', 'Monday'), ('Cynthia', 'Hannah', 'Tuesday'), ('Cynthia', 'Hannah', 'Wednesday'), ('Cynthia', 'Hannah', 'Thursday'), ('Cynthia', 'Hannah', 'Friday'), ('Cynthia', 'Hannah', 'Saturday')}\n",
      "    assignments_index_index_0 : Size=1, Index=None, Ordered=True\n",
      "        Key  : Dimen : Domain            : Size : Members\n",
      "        None :     2 : workers*customers :    9 : {('Adam', 'Frank'), ('Adam', 'Ginny'), ('Adam', 'Hannah'), ('Bob', 'Frank'), ('Bob', 'Ginny'), ('Bob', 'Hannah'), ('Cynthia', 'Frank'), ('Cynthia', 'Ginny'), ('Cynthia', 'Hannah')}\n",
      "    customer_requests_index : Size=1, Index=None, Ordered=True\n",
      "        Key  : Dimen : Domain         : Size : Members\n",
      "        None :     2 : customers*days :   21 : {('Frank', 'Sunday'), ('Frank', 'Monday'), ('Frank', 'Tuesday'), ('Frank', 'Wednesday'), ('Frank', 'Thursday'), ('Frank', 'Friday'), ('Frank', 'Saturday'), ('Ginny', 'Sunday'), ('Ginny', 'Monday'), ('Ginny', 'Tuesday'), ('Ginny', 'Wednesday'), ('Ginny', 'Thursday'), ('Ginny', 'Friday'), ('Ginny', 'Saturday'), ('Hannah', 'Sunday'), ('Hannah', 'Monday'), ('Hannah', 'Tuesday'), ('Hannah', 'Wednesday'), ('Hannah', 'Thursday'), ('Hannah', 'Friday'), ('Hannah', 'Saturday')}\n",
      "    customers : Size=1, Index=None, Ordered=Insertion\n",
      "        Key  : Dimen : Domain : Size : Members\n",
      "        None :     1 :    Any :    3 : {'Frank', 'Ginny', 'Hannah'}\n",
      "    days : Size=1, Index=None, Ordered=Insertion\n",
      "        Key  : Dimen : Domain : Size : Members\n",
      "        None :     1 :    Any :    7 : {'Sunday', 'Monday', 'Tuesday', 'Wednesday', 'Thursday', 'Friday', 'Saturday'}\n",
      "    worker_schedules_index : Size=1, Index=None, Ordered=True\n",
      "        Key  : Dimen : Domain       : Size : Members\n",
      "        None :     2 : workers*days :   21 : {('Adam', 'Sunday'), ('Adam', 'Monday'), ('Adam', 'Tuesday'), ('Adam', 'Wednesday'), ('Adam', 'Thursday'), ('Adam', 'Friday'), ('Adam', 'Saturday'), ('Bob', 'Sunday'), ('Bob', 'Monday'), ('Bob', 'Tuesday'), ('Bob', 'Wednesday'), ('Bob', 'Thursday'), ('Bob', 'Friday'), ('Bob', 'Saturday'), ('Cynthia', 'Sunday'), ('Cynthia', 'Monday'), ('Cynthia', 'Tuesday'), ('Cynthia', 'Wednesday'), ('Cynthia', 'Thursday'), ('Cynthia', 'Friday'), ('Cynthia', 'Saturday')}\n",
      "    workers : Size=1, Index=None, Ordered=Insertion\n",
      "        Key  : Dimen : Domain : Size : Members\n",
      "        None :     1 :    Any :    3 : {'Adam', 'Bob', 'Cynthia'}\n",
      "\n",
      "2 Param Declarations\n",
      "    customer_requests : Size=21, Index=customer_requests_index, Domain=Binary, Default=None, Mutable=False\n",
      "        Key                     : Value\n",
      "            ('Frank', 'Friday') :     0\n",
      "            ('Frank', 'Monday') :     1\n",
      "          ('Frank', 'Saturday') :     0\n",
      "            ('Frank', 'Sunday') :     0\n",
      "          ('Frank', 'Thursday') :     0\n",
      "           ('Frank', 'Tuesday') :     0\n",
      "         ('Frank', 'Wednesday') :     0\n",
      "            ('Ginny', 'Friday') :     0\n",
      "            ('Ginny', 'Monday') :     0\n",
      "          ('Ginny', 'Saturday') :     0\n",
      "            ('Ginny', 'Sunday') :     0\n",
      "          ('Ginny', 'Thursday') :     0\n",
      "           ('Ginny', 'Tuesday') :     1\n",
      "         ('Ginny', 'Wednesday') :     0\n",
      "           ('Hannah', 'Friday') :     0\n",
      "           ('Hannah', 'Monday') :     0\n",
      "         ('Hannah', 'Saturday') :     0\n",
      "           ('Hannah', 'Sunday') :     0\n",
      "         ('Hannah', 'Thursday') :     1\n",
      "          ('Hannah', 'Tuesday') :     0\n",
      "        ('Hannah', 'Wednesday') :     0\n",
      "    worker_schedules : Size=21, Index=worker_schedules_index, Domain=Binary, Default=None, Mutable=False\n",
      "        Key                      : Value\n",
      "              ('Adam', 'Friday') :     0\n",
      "              ('Adam', 'Monday') :     1\n",
      "            ('Adam', 'Saturday') :     0\n",
      "              ('Adam', 'Sunday') :     0\n",
      "            ('Adam', 'Thursday') :     0\n",
      "             ('Adam', 'Tuesday') :     0\n",
      "           ('Adam', 'Wednesday') :     0\n",
      "               ('Bob', 'Friday') :     0\n",
      "               ('Bob', 'Monday') :     0\n",
      "             ('Bob', 'Saturday') :     0\n",
      "               ('Bob', 'Sunday') :     0\n",
      "             ('Bob', 'Thursday') :     0\n",
      "              ('Bob', 'Tuesday') :     1\n",
      "            ('Bob', 'Wednesday') :     0\n",
      "           ('Cynthia', 'Friday') :     0\n",
      "           ('Cynthia', 'Monday') :     0\n",
      "         ('Cynthia', 'Saturday') :     0\n",
      "           ('Cynthia', 'Sunday') :     0\n",
      "         ('Cynthia', 'Thursday') :     0\n",
      "          ('Cynthia', 'Tuesday') :     0\n",
      "        ('Cynthia', 'Wednesday') :     1\n",
      "\n",
      "1 Var Declarations\n",
      "    assignments : Size=63, Index=assignments_index\n",
      "        Key                                : Lower : Value : Upper : Fixed : Stale : Domain\n",
      "               ('Adam', 'Frank', 'Friday') :     0 :     0 :     1 : False : False : Binary\n",
      "               ('Adam', 'Frank', 'Monday') :     0 :     0 :     1 : False : False : Binary\n",
      "             ('Adam', 'Frank', 'Saturday') :     0 :     0 :     1 : False : False : Binary\n",
      "               ('Adam', 'Frank', 'Sunday') :     0 :     0 :     1 : False : False : Binary\n",
      "             ('Adam', 'Frank', 'Thursday') :     0 :     0 :     1 : False : False : Binary\n",
      "              ('Adam', 'Frank', 'Tuesday') :     0 :     0 :     1 : False : False : Binary\n",
      "            ('Adam', 'Frank', 'Wednesday') :     0 :     0 :     1 : False : False : Binary\n",
      "               ('Adam', 'Ginny', 'Friday') :     0 :     0 :     1 : False : False : Binary\n",
      "               ('Adam', 'Ginny', 'Monday') :     0 :     0 :     1 : False : False : Binary\n",
      "             ('Adam', 'Ginny', 'Saturday') :     0 :     0 :     1 : False : False : Binary\n",
      "               ('Adam', 'Ginny', 'Sunday') :     0 :     0 :     1 : False : False : Binary\n",
      "             ('Adam', 'Ginny', 'Thursday') :     0 :     0 :     1 : False : False : Binary\n",
      "              ('Adam', 'Ginny', 'Tuesday') :     0 :     0 :     1 : False : False : Binary\n",
      "            ('Adam', 'Ginny', 'Wednesday') :     0 :     0 :     1 : False : False : Binary\n",
      "              ('Adam', 'Hannah', 'Friday') :     0 :     0 :     1 : False : False : Binary\n",
      "              ('Adam', 'Hannah', 'Monday') :     0 :     0 :     1 : False : False : Binary\n",
      "            ('Adam', 'Hannah', 'Saturday') :     0 :     0 :     1 : False : False : Binary\n",
      "              ('Adam', 'Hannah', 'Sunday') :     0 :     0 :     1 : False : False : Binary\n",
      "            ('Adam', 'Hannah', 'Thursday') :     0 :     0 :     1 : False : False : Binary\n",
      "             ('Adam', 'Hannah', 'Tuesday') :     0 :     0 :     1 : False : False : Binary\n",
      "           ('Adam', 'Hannah', 'Wednesday') :     0 :     0 :     1 : False : False : Binary\n",
      "                ('Bob', 'Frank', 'Friday') :     0 :     0 :     1 : False : False : Binary\n",
      "                ('Bob', 'Frank', 'Monday') :     0 :     0 :     1 : False : False : Binary\n",
      "              ('Bob', 'Frank', 'Saturday') :     0 :     0 :     1 : False : False : Binary\n",
      "                ('Bob', 'Frank', 'Sunday') :     0 :     0 :     1 : False : False : Binary\n",
      "              ('Bob', 'Frank', 'Thursday') :     0 :     0 :     1 : False : False : Binary\n",
      "               ('Bob', 'Frank', 'Tuesday') :     0 :     0 :     1 : False : False : Binary\n",
      "             ('Bob', 'Frank', 'Wednesday') :     0 :     0 :     1 : False : False : Binary\n",
      "                ('Bob', 'Ginny', 'Friday') :     0 :     0 :     1 : False : False : Binary\n",
      "                ('Bob', 'Ginny', 'Monday') :     0 :     0 :     1 : False : False : Binary\n",
      "              ('Bob', 'Ginny', 'Saturday') :     0 :     0 :     1 : False : False : Binary\n",
      "                ('Bob', 'Ginny', 'Sunday') :     0 :     0 :     1 : False : False : Binary\n",
      "              ('Bob', 'Ginny', 'Thursday') :     0 :     0 :     1 : False : False : Binary\n",
      "               ('Bob', 'Ginny', 'Tuesday') :     0 :     0 :     1 : False : False : Binary\n",
      "             ('Bob', 'Ginny', 'Wednesday') :     0 :     0 :     1 : False : False : Binary\n",
      "               ('Bob', 'Hannah', 'Friday') :     0 :     0 :     1 : False : False : Binary\n",
      "               ('Bob', 'Hannah', 'Monday') :     0 :     0 :     1 : False : False : Binary\n",
      "             ('Bob', 'Hannah', 'Saturday') :     0 :     0 :     1 : False : False : Binary\n",
      "               ('Bob', 'Hannah', 'Sunday') :     0 :     0 :     1 : False : False : Binary\n",
      "             ('Bob', 'Hannah', 'Thursday') :     0 :     0 :     1 : False : False : Binary\n",
      "              ('Bob', 'Hannah', 'Tuesday') :     0 :     0 :     1 : False : False : Binary\n",
      "            ('Bob', 'Hannah', 'Wednesday') :     0 :     0 :     1 : False : False : Binary\n",
      "            ('Cynthia', 'Frank', 'Friday') :     0 :     0 :     1 : False : False : Binary\n",
      "            ('Cynthia', 'Frank', 'Monday') :     0 :     0 :     1 : False : False : Binary\n",
      "          ('Cynthia', 'Frank', 'Saturday') :     0 :     0 :     1 : False : False : Binary\n",
      "            ('Cynthia', 'Frank', 'Sunday') :     0 :     0 :     1 : False : False : Binary\n",
      "          ('Cynthia', 'Frank', 'Thursday') :     0 :     0 :     1 : False : False : Binary\n",
      "           ('Cynthia', 'Frank', 'Tuesday') :     0 :     0 :     1 : False : False : Binary\n",
      "         ('Cynthia', 'Frank', 'Wednesday') :     0 :     0 :     1 : False : False : Binary\n",
      "            ('Cynthia', 'Ginny', 'Friday') :     0 :     0 :     1 : False : False : Binary\n",
      "            ('Cynthia', 'Ginny', 'Monday') :     0 :     0 :     1 : False : False : Binary\n",
      "          ('Cynthia', 'Ginny', 'Saturday') :     0 :     0 :     1 : False : False : Binary\n",
      "            ('Cynthia', 'Ginny', 'Sunday') :     0 :     0 :     1 : False : False : Binary\n",
      "          ('Cynthia', 'Ginny', 'Thursday') :     0 :     0 :     1 : False : False : Binary\n",
      "           ('Cynthia', 'Ginny', 'Tuesday') :     0 :     0 :     1 : False : False : Binary\n",
      "         ('Cynthia', 'Ginny', 'Wednesday') :     0 :     0 :     1 : False : False : Binary\n",
      "           ('Cynthia', 'Hannah', 'Friday') :     0 :     0 :     1 : False : False : Binary\n",
      "           ('Cynthia', 'Hannah', 'Monday') :     0 :     0 :     1 : False : False : Binary\n",
      "         ('Cynthia', 'Hannah', 'Saturday') :     0 :     0 :     1 : False : False : Binary\n",
      "           ('Cynthia', 'Hannah', 'Sunday') :     0 :     0 :     1 : False : False : Binary\n",
      "         ('Cynthia', 'Hannah', 'Thursday') :     0 :     0 :     1 : False : False : Binary\n",
      "          ('Cynthia', 'Hannah', 'Tuesday') :     0 :     0 :     1 : False : False : Binary\n",
      "        ('Cynthia', 'Hannah', 'Wednesday') :     0 :     0 :     1 : False : False : Binary\n",
      "\n",
      "1 Objective Declarations\n",
      "    objective : Size=1, Index=None, Active=True\n",
      "        Key  : Active : Sense    : Expression\n",
      "        None :   True : maximize : assignments[Adam,Frank,Monday] + assignments[Bob,Ginny,Tuesday]\n",
      "\n",
      "3 Constraint Declarations\n",
      "    at_most_one_worker_per_customer : Size=3, Index=customers, Active=True\n",
      "        Key    : Lower : Body                                                                                                                                                                                                                                                                                                                                                                                                                                                                                                                                                                                                                                                                                                                                                                          : Upper : Active\n",
      "         Frank :   1.0 :                      assignments[Adam,Frank,Sunday] + assignments[Adam,Frank,Monday] + assignments[Adam,Frank,Tuesday] + assignments[Adam,Frank,Wednesday] + assignments[Adam,Frank,Thursday] + assignments[Adam,Frank,Friday] + assignments[Adam,Frank,Saturday] + assignments[Bob,Frank,Sunday] + assignments[Bob,Frank,Monday] + assignments[Bob,Frank,Tuesday] + assignments[Bob,Frank,Wednesday] + assignments[Bob,Frank,Thursday] + assignments[Bob,Frank,Friday] + assignments[Bob,Frank,Saturday] + assignments[Cynthia,Frank,Sunday] + assignments[Cynthia,Frank,Monday] + assignments[Cynthia,Frank,Tuesday] + assignments[Cynthia,Frank,Wednesday] + assignments[Cynthia,Frank,Thursday] + assignments[Cynthia,Frank,Friday] + assignments[Cynthia,Frank,Saturday] :   1.0 :   True\n",
      "         Ginny :   1.0 :                      assignments[Adam,Ginny,Sunday] + assignments[Adam,Ginny,Monday] + assignments[Adam,Ginny,Tuesday] + assignments[Adam,Ginny,Wednesday] + assignments[Adam,Ginny,Thursday] + assignments[Adam,Ginny,Friday] + assignments[Adam,Ginny,Saturday] + assignments[Bob,Ginny,Sunday] + assignments[Bob,Ginny,Monday] + assignments[Bob,Ginny,Tuesday] + assignments[Bob,Ginny,Wednesday] + assignments[Bob,Ginny,Thursday] + assignments[Bob,Ginny,Friday] + assignments[Bob,Ginny,Saturday] + assignments[Cynthia,Ginny,Sunday] + assignments[Cynthia,Ginny,Monday] + assignments[Cynthia,Ginny,Tuesday] + assignments[Cynthia,Ginny,Wednesday] + assignments[Cynthia,Ginny,Thursday] + assignments[Cynthia,Ginny,Friday] + assignments[Cynthia,Ginny,Saturday] :   1.0 :   True\n",
      "        Hannah :   1.0 : assignments[Adam,Hannah,Sunday] + assignments[Adam,Hannah,Monday] + assignments[Adam,Hannah,Tuesday] + assignments[Adam,Hannah,Wednesday] + assignments[Adam,Hannah,Thursday] + assignments[Adam,Hannah,Friday] + assignments[Adam,Hannah,Saturday] + assignments[Bob,Hannah,Sunday] + assignments[Bob,Hannah,Monday] + assignments[Bob,Hannah,Tuesday] + assignments[Bob,Hannah,Wednesday] + assignments[Bob,Hannah,Thursday] + assignments[Bob,Hannah,Friday] + assignments[Bob,Hannah,Saturday] + assignments[Cynthia,Hannah,Sunday] + assignments[Cynthia,Hannah,Monday] + assignments[Cynthia,Hannah,Tuesday] + assignments[Cynthia,Hannah,Wednesday] + assignments[Cynthia,Hannah,Thursday] + assignments[Cynthia,Hannah,Friday] + assignments[Cynthia,Hannah,Saturday] :   1.0 :   True\n",
      "    customer_assigned_on_requested_day : Size=3, Index=customers, Active=True\n",
      "        Key    : Lower : Body                                                                                                        : Upper : Active\n",
      "         Frank :   1.0 :          assignments[Adam,Frank,Monday] + assignments[Bob,Frank,Monday] + assignments[Cynthia,Frank,Monday] :   1.0 :   True\n",
      "         Ginny :   1.0 :       assignments[Adam,Ginny,Tuesday] + assignments[Bob,Ginny,Tuesday] + assignments[Cynthia,Ginny,Tuesday] :   1.0 :   True\n",
      "        Hannah :   1.0 : assignments[Adam,Hannah,Thursday] + assignments[Bob,Hannah,Thursday] + assignments[Cynthia,Hannah,Thursday] :   1.0 :   True\n",
      "    worker_assigned_on_scheduled_day : Size=3, Index=workers, Active=True\n",
      "        Key     : Lower : Body                                                                                                                : Upper : Active\n",
      "           Adam :   1.0 :                   assignments[Adam,Frank,Monday] + assignments[Adam,Ginny,Monday] + assignments[Adam,Hannah,Monday] :   1.0 :   True\n",
      "            Bob :   1.0 :                   assignments[Bob,Frank,Tuesday] + assignments[Bob,Ginny,Tuesday] + assignments[Bob,Hannah,Tuesday] :   1.0 :   True\n",
      "        Cynthia :   1.0 : assignments[Cynthia,Frank,Wednesday] + assignments[Cynthia,Ginny,Wednesday] + assignments[Cynthia,Hannah,Wednesday] :   1.0 :   True\n",
      "\n",
      "14 Declarations: workers customers days worker_schedules_index worker_schedules customer_requests_index customer_requests assignments_index_index_0 assignments_index assignments at_most_one_worker_per_customer customer_assigned_on_requested_day worker_assigned_on_scheduled_day objective\n"
     ]
    }
   ],
   "source": [
    "scenario3.pprint()"
   ]
  },
  {
   "cell_type": "code",
   "execution_count": 21,
   "metadata": {},
   "outputs": [
    {
     "data": {
      "text/plain": [
       "set()"
      ]
     },
     "execution_count": 21,
     "metadata": {},
     "output_type": "execute_result"
    }
   ],
   "source": [
    "sam.get_matches(scenario3)"
   ]
  },
  {
   "cell_type": "code",
   "execution_count": 22,
   "metadata": {},
   "outputs": [
    {
     "name": "stdout",
     "output_type": "stream",
     "text": [
      "('Adam', 'Frank', 'Sunday'), 0\n",
      "('Adam', 'Frank', 'Monday'), 0\n",
      "('Adam', 'Frank', 'Tuesday'), 0\n",
      "('Adam', 'Frank', 'Wednesday'), 0\n",
      "('Adam', 'Frank', 'Thursday'), 0\n",
      "('Adam', 'Frank', 'Friday'), 0\n",
      "('Adam', 'Frank', 'Saturday'), 0\n",
      "('Adam', 'Ginny', 'Sunday'), 0\n",
      "('Adam', 'Ginny', 'Monday'), 0\n",
      "('Adam', 'Ginny', 'Tuesday'), 0\n",
      "('Adam', 'Ginny', 'Wednesday'), 0\n",
      "('Adam', 'Ginny', 'Thursday'), 0\n",
      "('Adam', 'Ginny', 'Friday'), 0\n",
      "('Adam', 'Ginny', 'Saturday'), 0\n",
      "('Adam', 'Hannah', 'Sunday'), 0\n",
      "('Adam', 'Hannah', 'Monday'), 0\n",
      "('Adam', 'Hannah', 'Tuesday'), 0\n",
      "('Adam', 'Hannah', 'Wednesday'), 0\n",
      "('Adam', 'Hannah', 'Thursday'), 0\n",
      "('Adam', 'Hannah', 'Friday'), 0\n",
      "('Adam', 'Hannah', 'Saturday'), 0\n",
      "('Bob', 'Frank', 'Sunday'), 0\n",
      "('Bob', 'Frank', 'Monday'), 0\n",
      "('Bob', 'Frank', 'Tuesday'), 0\n",
      "('Bob', 'Frank', 'Wednesday'), 0\n",
      "('Bob', 'Frank', 'Thursday'), 0\n",
      "('Bob', 'Frank', 'Friday'), 0\n",
      "('Bob', 'Frank', 'Saturday'), 0\n",
      "('Bob', 'Ginny', 'Sunday'), 0\n",
      "('Bob', 'Ginny', 'Monday'), 0\n",
      "('Bob', 'Ginny', 'Tuesday'), 0\n",
      "('Bob', 'Ginny', 'Wednesday'), 0\n",
      "('Bob', 'Ginny', 'Thursday'), 0\n",
      "('Bob', 'Ginny', 'Friday'), 0\n",
      "('Bob', 'Ginny', 'Saturday'), 0\n",
      "('Bob', 'Hannah', 'Sunday'), 0\n",
      "('Bob', 'Hannah', 'Monday'), 0\n",
      "('Bob', 'Hannah', 'Tuesday'), 0\n",
      "('Bob', 'Hannah', 'Wednesday'), 0\n",
      "('Bob', 'Hannah', 'Thursday'), 0\n",
      "('Bob', 'Hannah', 'Friday'), 0\n",
      "('Bob', 'Hannah', 'Saturday'), 0\n",
      "('Cynthia', 'Frank', 'Sunday'), 0\n",
      "('Cynthia', 'Frank', 'Monday'), 0\n",
      "('Cynthia', 'Frank', 'Tuesday'), 0\n",
      "('Cynthia', 'Frank', 'Wednesday'), 0\n",
      "('Cynthia', 'Frank', 'Thursday'), 0\n",
      "('Cynthia', 'Frank', 'Friday'), 0\n",
      "('Cynthia', 'Frank', 'Saturday'), 0\n",
      "('Cynthia', 'Ginny', 'Sunday'), 0\n",
      "('Cynthia', 'Ginny', 'Monday'), 0\n",
      "('Cynthia', 'Ginny', 'Tuesday'), 0\n",
      "('Cynthia', 'Ginny', 'Wednesday'), 0\n",
      "('Cynthia', 'Ginny', 'Thursday'), 0\n",
      "('Cynthia', 'Ginny', 'Friday'), 0\n",
      "('Cynthia', 'Ginny', 'Saturday'), 0\n",
      "('Cynthia', 'Hannah', 'Sunday'), 0\n",
      "('Cynthia', 'Hannah', 'Monday'), 0\n",
      "('Cynthia', 'Hannah', 'Tuesday'), 0\n",
      "('Cynthia', 'Hannah', 'Wednesday'), 0\n",
      "('Cynthia', 'Hannah', 'Thursday'), 0\n",
      "('Cynthia', 'Hannah', 'Friday'), 0\n",
      "('Cynthia', 'Hannah', 'Saturday'), 0\n"
     ]
    }
   ],
   "source": [
    "for (w, c, d), p in scenario3.assignments.get_values().items():\n",
    "    print(f'{(w, c, d)}, {p}')"
   ]
  },
  {
   "cell_type": "code",
   "execution_count": 23,
   "metadata": {},
   "outputs": [
    {
     "data": {
      "text/plain": [
       "0"
      ]
     },
     "execution_count": 23,
     "metadata": {},
     "output_type": "execute_result"
    }
   ],
   "source": [
    "pe.value(scenario3.assignments['Cynthia', 'Hannah', 'Wednesday'])"
   ]
  },
  {
   "cell_type": "code",
   "execution_count": 24,
   "metadata": {},
   "outputs": [
    {
     "data": {
      "text/plain": [
       "1"
      ]
     },
     "execution_count": 24,
     "metadata": {},
     "output_type": "execute_result"
    }
   ],
   "source": [
    "pe.value(scenario3.worker_schedules['Cynthia', 'Wednesday'])"
   ]
  },
  {
   "cell_type": "code",
   "execution_count": 25,
   "metadata": {},
   "outputs": [
    {
     "data": {
      "text/plain": [
       "0"
      ]
     },
     "execution_count": 25,
     "metadata": {},
     "output_type": "execute_result"
    }
   ],
   "source": [
    "pe.value(scenario3.customer_requests['Hannah', 'Wednesday'])"
   ]
  },
  {
   "cell_type": "code",
   "execution_count": null,
   "metadata": {},
   "outputs": [],
   "source": []
  }
 ],
 "metadata": {
  "kernelspec": {
   "display_name": "Python 3 (ipykernel)",
   "language": "python",
   "name": "python3"
  },
  "language_info": {
   "codemirror_mode": {
    "name": "ipython",
    "version": 3
   },
   "file_extension": ".py",
   "mimetype": "text/x-python",
   "name": "python",
   "nbconvert_exporter": "python",
   "pygments_lexer": "ipython3",
   "version": "3.7.9"
  }
 },
 "nbformat": 4,
 "nbformat_minor": 4
}
