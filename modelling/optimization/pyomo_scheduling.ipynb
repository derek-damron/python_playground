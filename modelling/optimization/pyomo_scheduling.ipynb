{
 "cells": [
  {
   "cell_type": "code",
   "execution_count": 1,
   "metadata": {},
   "outputs": [],
   "source": [
    "import numpy as np\n",
    "import pandas as pd\n",
    "import matplotlib.pyplot as plt\n",
    "import seaborn as sns\n",
    "from pprint import pprint\n",
    "from pyomo import environ as pe\n",
    "\n",
    "import scheduling_abstract_model as sam"
   ]
  },
  {
   "cell_type": "code",
   "execution_count": 2,
   "metadata": {},
   "outputs": [],
   "source": [
    "solver = pe.SolverFactory(\"glpk\")"
   ]
  },
  {
   "cell_type": "code",
   "execution_count": 3,
   "metadata": {},
   "outputs": [],
   "source": [
    "abstract = sam.create()"
   ]
  },
  {
   "cell_type": "code",
   "execution_count": 4,
   "metadata": {},
   "outputs": [],
   "source": [
    "# Scenario 1: Each customer only overlaps with one tutor\n",
    "scenario1 = abstract.create_instance(data={\n",
    "    None: {\n",
    "        'worker_schedules': {\n",
    "            ('Adam', 'Wednesday'): 1,\n",
    "            ('Bob', 'Monday'): 1,\n",
    "            ('Cynthia', 'Tuesday'): 1,\n",
    "        },\n",
    "        'customer_requests': {\n",
    "            ('Frank', 'Monday'): 1,\n",
    "            ('Ginny', 'Tuesday'): 1,\n",
    "            ('Hannah', 'Wednesday'): 1,\n",
    "        }\n",
    "    }\n",
    "})\n",
    "\n",
    "scenario1_expected_output = {\n",
    "    ('Bob', 'Frank', 'Monday'),\n",
    "    ('Cynthia', 'Ginny', 'Tuesday'),\n",
    "    ('Adam', 'Hannah', 'Wednesday')\n",
    "}\n",
    "\n",
    "solver.solve(scenario1)\n",
    "\n",
    "assert sam.get_assignments(scenario1) == scenario1_expected_output"
   ]
  },
  {
   "cell_type": "code",
   "execution_count": 5,
   "metadata": {},
   "outputs": [],
   "source": [
    "# Scenario 2a: No assignments because one customer can't be assigned\n",
    "scenario2a = abstract.create_instance(data={\n",
    "    None: {\n",
    "        'worker_schedules': {\n",
    "            ('Adam', 'Monday'): 1,\n",
    "            ('Bob', 'Tuesday'): 1,\n",
    "            ('Cynthia', 'Wednesday'): 1,\n",
    "        },\n",
    "        'customer_requests': {\n",
    "            ('Frank', 'Monday'): 1,\n",
    "            ('Ginny', 'Tuesday'): 1,\n",
    "            ('Hannah', 'Thursday'): 1,\n",
    "        }\n",
    "    }\n",
    "})\n",
    "\n",
    "scenario2a_expected_output = set()\n",
    "\n",
    "solver.solve(scenario2a)\n",
    "\n",
    "assert sam.get_assignments(scenario2a) == scenario2a_expected_output"
   ]
  },
  {
   "cell_type": "code",
   "execution_count": 6,
   "metadata": {},
   "outputs": [],
   "source": [
    "# Scenario 2b: Same as Scenario 2a, but should only return *some* customers due to relaxing the \n",
    "#              \"everybody must have somebody assigned\" constraint\n",
    "scenario2b = abstract.create_instance(data={\n",
    "    None: {\n",
    "        'worker_schedules': {\n",
    "            ('Adam', 'Monday'): 1,\n",
    "            ('Bob', 'Tuesday'): 1,\n",
    "            ('Cynthia', 'Wednesday'): 1,\n",
    "        },\n",
    "        'customer_requests': {\n",
    "            ('Frank', 'Monday'): 1,\n",
    "            ('Ginny', 'Tuesday'): 1,\n",
    "            ('Hannah', 'Thursday'): 1,\n",
    "        }\n",
    "    }\n",
    "})\n",
    "scenario2b.exactly_one_worker_per_customer.deactivate()\n",
    "\n",
    "scenario2b_expected_output = {\n",
    "    ('Adam', 'Frank', 'Monday'),\n",
    "    ('Bob', 'Ginny', 'Tuesday'),\n",
    "}\n",
    "\n",
    "solver.solve(scenario2b)\n",
    "\n",
    "assert sam.get_assignments(scenario2b) == scenario2b_expected_output"
   ]
  },
  {
   "cell_type": "code",
   "execution_count": 7,
   "metadata": {},
   "outputs": [],
   "source": [
    "# Scenario 3a: More overlap between customers and workers, but still only one solution because\n",
    "#              Hannah only overlaps with one worker and we're restricting each worker\n",
    "#              to only one customer\n",
    "scenario3a = abstract.create_instance(data={\n",
    "    None: {\n",
    "        'worker_schedules': {\n",
    "            ('Adam', 'Sunday'): 1,\n",
    "            ('Adam', 'Monday'): 1,\n",
    "            ('Bob', 'Monday'): 1,\n",
    "            ('Bob', 'Tuesday'): 1,\n",
    "            ('Cynthia', 'Tuesday'): 1,\n",
    "            ('Cynthia', 'Wednesday'): 1,\n",
    "        },\n",
    "        'customer_requests': {\n",
    "            ('Frank', 'Monday'): 1,\n",
    "            ('Ginny', 'Tuesday'): 1,\n",
    "            ('Hannah', 'Wednesday'): 1,\n",
    "        }\n",
    "    }\n",
    "})\n",
    "\n",
    "scenario3a_expected_output = {\n",
    "    ('Adam', 'Frank', 'Monday'),\n",
    "    ('Bob', 'Ginny', 'Tuesday'),\n",
    "    ('Cynthia', 'Hannah', 'Wednesday')\n",
    "}\n",
    "\n",
    "solver.solve(scenario3a)\n",
    "\n",
    "assert sam.get_assignments(scenario3a) == scenario3a_expected_output"
   ]
  },
  {
   "cell_type": "code",
   "execution_count": 8,
   "metadata": {},
   "outputs": [],
   "source": [
    "# Scenario 3b: Same as Scenario 3a, but we have non-uniqueness because due to relaxing the \n",
    "#              \"at most one customer per worker\" constraint\n",
    "scenario3b = abstract.create_instance(data={\n",
    "    None: {\n",
    "        'worker_schedules': {\n",
    "            ('Adam', 'Sunday'): 1,\n",
    "            ('Adam', 'Monday'): 1,\n",
    "            ('Bob', 'Monday'): 1,\n",
    "            ('Bob', 'Tuesday'): 1,\n",
    "            ('Cynthia', 'Tuesday'): 1,\n",
    "            ('Cynthia', 'Wednesday'): 1,\n",
    "        },\n",
    "        'customer_requests': {\n",
    "            ('Frank', 'Monday'): 1,\n",
    "            ('Ginny', 'Tuesday'): 1,\n",
    "            ('Hannah', 'Wednesday'): 1,\n",
    "        }\n",
    "    }\n",
    "})\n",
    "scenario3b.at_most_one_customer_per_worker.deactivate()\n",
    "\n",
    "scenario3b_expected_outputs = {\n",
    "    # One each\n",
    "    frozenset({\n",
    "        ('Adam', 'Frank', 'Monday'),\n",
    "        ('Bob', 'Ginny', 'Tuesday'),\n",
    "        ('Cynthia', 'Hannah', 'Wednesday')\n",
    "    }),\n",
    "    # Adam 1, Bob 0, Cynthia 2\n",
    "    frozenset({\n",
    "        ('Adam', 'Frank', 'Monday'),\n",
    "        ('Cynthia', 'Ginny', 'Tuesday'),\n",
    "        ('Cynthia', 'Hannah', 'Wednesday')\n",
    "    }),\n",
    "    # Adam 0, Bob 2, Cynthia 1\n",
    "    frozenset({\n",
    "        ('Bob', 'Frank', 'Monday'),\n",
    "        ('Bob', 'Ginny', 'Tuesday'),\n",
    "        ('Cynthia', 'Hannah', 'Wednesday')\n",
    "    }),\n",
    "    # Adam 0, Bob 1, Cynthia 2\n",
    "    frozenset({\n",
    "        ('Bob', 'Frank', 'Monday'),\n",
    "        ('Cynthia', 'Ginny', 'Tuesday'),\n",
    "        ('Cynthia', 'Hannah', 'Wednesday')\n",
    "    })\n",
    "}\n",
    "\n",
    "scenario3b_all_solutions = sam.get_all_solutions(scenario3b)\n",
    "\n",
    "assert scenario3b_all_solutions == scenario3b_expected_outputs"
   ]
  },
  {
   "cell_type": "code",
   "execution_count": 9,
   "metadata": {},
   "outputs": [],
   "source": [
    "# Scenario 4a: Same as Scenario 3a but with multiple customer requests, same end answer\n",
    "scenario4a = abstract.create_instance(data={\n",
    "    None: {\n",
    "        'worker_schedules': {\n",
    "            ('Adam', 'Sunday'): 1,\n",
    "            ('Adam', 'Monday'): 1,\n",
    "            ('Bob', 'Monday'): 1,\n",
    "            ('Bob', 'Tuesday'): 1,\n",
    "            ('Cynthia', 'Tuesday'): 1,\n",
    "            ('Cynthia', 'Wednesday'): 1,\n",
    "        },\n",
    "        'customer_requests': {\n",
    "            ('Frank', 'Monday'): 1,\n",
    "            ('Frank', 'Thursday'): 1,\n",
    "            ('Ginny', 'Tuesday'): 1,\n",
    "            ('Ginny', 'Friday'): 1,\n",
    "            ('Hannah', 'Wednesday'): 1,\n",
    "            ('Hannah', 'Saturday'): 1,\n",
    "        }\n",
    "    }\n",
    "})\n",
    "\n",
    "scenario4a_expected_output = {\n",
    "    ('Adam', 'Frank', 'Monday'),\n",
    "    ('Bob', 'Ginny', 'Tuesday'),\n",
    "    ('Cynthia', 'Hannah', 'Wednesday')\n",
    "}\n",
    "\n",
    "solver.solve(scenario4a)\n",
    "\n",
    "assert sam.get_assignments(scenario4a) == scenario4a_expected_output"
   ]
  },
  {
   "cell_type": "code",
   "execution_count": 10,
   "metadata": {},
   "outputs": [],
   "source": [
    "# Scenario 4b: Similar as Scenario 4a but with multiple answers\n",
    "scenario4b = abstract.create_instance(data={\n",
    "    None: {\n",
    "        'worker_schedules': {\n",
    "            ('Adam', 'Sunday'): 1,\n",
    "            ('Adam', 'Monday'): 1,\n",
    "            ('Bob', 'Monday'): 1,\n",
    "            ('Bob', 'Tuesday'): 1,\n",
    "            ('Cynthia', 'Wednesday'): 1,\n",
    "        },\n",
    "        'customer_requests': {\n",
    "            ('Frank', 'Sunday'): 1,\n",
    "            ('Frank', 'Monday'): 1,\n",
    "            ('Ginny', 'Monday'): 1,\n",
    "            ('Ginny', 'Tuesday'): 1,\n",
    "            ('Hannah', 'Tuesday'): 1,\n",
    "            ('Hannah', 'Wednesday'): 1,\n",
    "        }\n",
    "    }\n",
    "})\n",
    "\n",
    "scenario4b_expected_outputs = {\n",
    "    # Frank Sunday, Ginny Monday\n",
    "    frozenset({\n",
    "        ('Adam', 'Frank', 'Sunday'),\n",
    "        ('Bob', 'Ginny', 'Monday'),\n",
    "        ('Cynthia', 'Hannah', 'Wednesday')\n",
    "    }),\n",
    "    # Frank Sunday, Ginny Tuesday\n",
    "    frozenset({\n",
    "        ('Adam', 'Frank', 'Sunday'),\n",
    "        ('Bob', 'Ginny', 'Tuesday'),\n",
    "        ('Cynthia', 'Hannah', 'Wednesday')\n",
    "    }),\n",
    "    # Frank Monday w/ Adam, Ginny Monday w/ Bob\n",
    "    frozenset({\n",
    "        ('Adam', 'Frank', 'Monday'),\n",
    "        ('Bob', 'Ginny', 'Monday'),\n",
    "        ('Cynthia', 'Hannah', 'Wednesday')\n",
    "    }),\n",
    "    # Frank Monday w/ Bob, Ginny Monday w/ Adam\n",
    "    frozenset({\n",
    "        ('Adam', 'Ginny', 'Monday'),\n",
    "        ('Bob', 'Frank', 'Monday'),\n",
    "        ('Cynthia', 'Hannah', 'Wednesday')\n",
    "    }),\n",
    "    # Frank Monday, Ginny Tuesday\n",
    "    frozenset({\n",
    "        ('Adam', 'Frank', 'Monday'),\n",
    "        ('Bob', 'Ginny', 'Tuesday'),\n",
    "        ('Cynthia', 'Hannah', 'Wednesday')\n",
    "    })\n",
    "}\n",
    "\n",
    "scenario4b_all_solutions = sam.get_all_solutions(scenario4b)\n",
    "\n",
    "assert scenario4b_all_solutions == scenario4b_expected_outputs"
   ]
  },
  {
   "cell_type": "markdown",
   "metadata": {},
   "source": [
    "# Check out plotting utilities"
   ]
  },
  {
   "cell_type": "code",
   "execution_count": 11,
   "metadata": {},
   "outputs": [
    {
     "data": {
      "image/png": "[encoded data removed]",
      "text/plain": [
       "<Figure size 432x288 with 2 Axes>"
      ]
     },
     "metadata": {
      "needs_background": "light"
     },
     "output_type": "display_data"
    }
   ],
   "source": [
    "# Worker schedules\n",
    "sam.plot_worker_schedules(scenario3a)"
   ]
  },
  {
   "cell_type": "code",
   "execution_count": 12,
   "metadata": {},
   "outputs": [
    {
     "data": {
      "image/png": "[encoded data removed]",
      "text/plain": [
       "<Figure size 432x288 with 2 Axes>"
      ]
     },
     "metadata": {
      "needs_background": "light"
     },
     "output_type": "display_data"
    }
   ],
   "source": [
    "# Customer requests\n",
    "sam.plot_customer_requests(scenario3a)"
   ]
  },
  {
   "cell_type": "code",
   "execution_count": 13,
   "metadata": {},
   "outputs": [
    {
     "data": {
      "image/png": "[encoded data removed]",
      "text/plain": [
       "<Figure size 864x432 with 14 Axes>"
      ]
     },
     "metadata": {
      "needs_background": "light"
     },
     "output_type": "display_data"
    }
   ],
   "source": [
    "# Customer requests\n",
    "sam.plot_assignments(scenario3a)"
   ]
  }
 ],
 "metadata": {
  "kernelspec": {
   "display_name": "Python 3 (ipykernel)",
   "language": "python",
   "name": "python3"
  },
  "language_info": {
   "codemirror_mode": {
    "name": "ipython",
    "version": 3
   },
   "file_extension": ".py",
   "mimetype": "text/x-python",
   "name": "python",
   "nbconvert_exporter": "python",
   "pygments_lexer": "ipython3",
   "version": "3.7.9"
  }
 },
 "nbformat": 4,
 "nbformat_minor": 4
}
